{
 "cells": [
  {
   "cell_type": "code",
   "execution_count": 1,
   "id": "da42bfa0-c7de-4c86-b8ed-82949013ab9d",
   "metadata": {},
   "outputs": [],
   "source": [
    "import json\n",
    "import pickle\n",
    "import random\n",
    "\n",
    "import pandas as pd\n",
    " \n",
    "import seaborn as sns\n",
    "import matplotlib.pyplot as plt\n",
    "\n",
    "from tqdm import tqdm\n",
    "from pathlib import Path\n",
    "\n",
    "from CGRtools import smiles"
   ]
  },
  {
   "cell_type": "markdown",
   "id": "51bd75a9-dc9b-47e8-8061-697f17d8e89c",
   "metadata": {},
   "source": [
    "### 5. Ranking policy training"
   ]
  },
  {
   "cell_type": "code",
   "execution_count": 2,
   "id": "24321a80-3b6f-45bd-9210-cdfb27f1d014",
   "metadata": {},
   "outputs": [
    {
     "name": "stderr",
     "output_type": "stream",
     "text": [
      "/storage/dmitry/miniforge3/envs/synplan/lib/python3.10/site-packages/lightning_fabric/__init__.py:41: pkg_resources is deprecated as an API. See https://setuptools.pypa.io/en/latest/pkg_resources.html. The pkg_resources package is slated for removal as early as 2025-11-30. Refrain from using this package or pin to Setuptools<81.\n"
     ]
    }
   ],
   "source": [
    "from synplan.utils.config import PolicyNetworkConfig\n",
    "from synplan.ml.training.supervised import create_policy_dataset, run_policy_training"
   ]
  },
  {
   "cell_type": "code",
   "execution_count": 3,
   "id": "7af8bc38-6cb9-4838-926b-eb2ca05576d5",
   "metadata": {},
   "outputs": [],
   "source": [
    "training_config = PolicyNetworkConfig(\n",
    "    policy_type=\"ranking\",  # the type of policy network\n",
    "    num_conv_layers=5,  # the number of graph convolutional layers in the network\n",
    "    vector_dim=512,  # the dimensionality of the final embedding vector\n",
    "    learning_rate=0.0008,  # the learning rate for the training process\n",
    "    dropout=0.4,  # the dropout rate\n",
    "    num_epoch=1000,  # the number of epochs for training\n",
    "    batch_size=100,\n",
    ") "
   ]
  },
  {
   "cell_type": "code",
   "execution_count": 4,
   "id": "f02eb6e8-ac93-4a88-b77a-3f2c64d11881",
   "metadata": {},
   "outputs": [],
   "source": [
    "reaction_data_path = \"passerini_reactions_stand.smi\"\n",
    "reaction_rules_path = \"passerini_reaction_rules.pickle\"\n",
    "ranking_policy_network_folder = Path(\"ranking_policy_network\")\n",
    "\n",
    "ranking_policy_dataset_path = ranking_policy_network_folder.joinpath(\"ranking_policy_dataset.pt\") # the generated training set"
   ]
  },
  {
   "cell_type": "code",
   "execution_count": 5,
   "id": "fe3653e7-19ba-451d-ba86-9b639b4c131e",
   "metadata": {},
   "outputs": [
    {
     "name": "stdout",
     "output_type": "stream",
     "text": [
      "Training set size: 1489, validation set size: 373\n"
     ]
    }
   ],
   "source": [
    "datamodule = create_policy_dataset(\n",
    "    dataset_type=\"ranking\",\n",
    "    reaction_rules_path=reaction_rules_path,\n",
    "    molecules_or_reactions_path=reaction_data_path,\n",
    "    output_path=ranking_policy_dataset_path,\n",
    "    batch_size=training_config.batch_size,\n",
    "    num_cpus=4,\n",
    ")"
   ]
  },
  {
   "cell_type": "code",
   "execution_count": 6,
   "id": "e2b42e85-620f-4cbb-a490-ae11b5e372ec",
   "metadata": {},
   "outputs": [
    {
     "name": "stderr",
     "output_type": "stream",
     "text": [
      "GPU available: False, used: False\n",
      "TPU available: False, using: 0 TPU cores\n",
      "HPU available: False, using: 0 HPUs\n"
     ]
    },
    {
     "name": "stdout",
     "output_type": "stream",
     "text": [
      "Policy network balanced accuracy: 0.675\n"
     ]
    }
   ],
   "source": [
    "run_policy_training(\n",
    "    datamodule,  # the prepared data module for training\n",
    "    config=training_config,  # the training configuration\n",
    "    results_path=ranking_policy_network_folder,\n",
    "    accelerator=\"cpu\",\n",
    "    silent=True\n",
    ")  # path to save the training results"
   ]
  },
  {
   "cell_type": "markdown",
   "id": "4346a1d6-bd1d-4548-9514-3e7932fac598",
   "metadata": {},
   "source": [
    "### 6. Expansion rate estimation"
   ]
  },
  {
   "cell_type": "code",
   "execution_count": 7,
   "id": "fc382212-8a30-425d-a931-db9f33c2531d",
   "metadata": {},
   "outputs": [],
   "source": [
    "from synplan.mcts.expansion import PolicyNetworkFunction\n",
    "from synplan.utils.loading import load_reaction_rules, load_building_blocks\n",
    "\n",
    "from synplan.chem.precursor import Precursor\n",
    "from synplan.chem.reaction import Reaction, apply_reaction_rule\n",
    "\n",
    "from collections import Counter"
   ]
  },
  {
   "cell_type": "code",
   "execution_count": 8,
   "id": "8ef9e4af-4e31-4572-b91a-a887d7658f08",
   "metadata": {},
   "outputs": [],
   "source": [
    "# initialize the policy function\n",
    "ranking_policy_network = ranking_policy_network_folder.joinpath(\"policy_network.ckpt\")\n",
    "\n",
    "policy_config = PolicyNetworkConfig(weights_path=ranking_policy_network)\n",
    "policy_function = PolicyNetworkFunction(policy_config=policy_config)\n",
    "reaction_rules = load_reaction_rules(reaction_rules_path)"
   ]
  },
  {
   "cell_type": "code",
   "execution_count": 9,
   "id": "e9863beb-d4b9-48c0-83c3-a61bceb7850e",
   "metadata": {},
   "outputs": [
    {
     "data": {
      "text/plain": [
       "c1cc(ccc1)NC(C2=CCCCC2)(OC(c3ccccc3)=O)O"
      ]
     },
     "execution_count": 9,
     "metadata": {},
     "output_type": "execute_result"
    }
   ],
   "source": [
    "mol = smiles(\"c1cc(ccc1)NC(C2=CCCCC2)(OC(c3ccccc3)=O)O\")\n",
    "precursor = Precursor(mol)\n",
    "precursor"
   ]
  },
  {
   "cell_type": "code",
   "execution_count": 10,
   "id": "5483852b-ecde-4676-adbf-7751243ebd0d",
   "metadata": {},
   "outputs": [
    {
     "data": {
      "text/plain": [
       "[(1,\n",
       "  0.012197372503578663,\n",
       "  <CGRtools.reactor.reactor.Reactor at 0x7f4d31817fd0>),\n",
       " (1251,\n",
       "  0.009791867807507515,\n",
       "  <CGRtools.reactor.reactor.Reactor at 0x7f4d3140baf0>),\n",
       " (6,\n",
       "  0.009302973747253418,\n",
       "  <CGRtools.reactor.reactor.Reactor at 0x7f4e893ac940>),\n",
       " (7,\n",
       "  0.008433681912720203,\n",
       "  <CGRtools.reactor.reactor.Reactor at 0x7f4e893acb50>),\n",
       " (41,\n",
       "  0.008429284207522869,\n",
       "  <CGRtools.reactor.reactor.Reactor at 0x7f4e893a06a0>),\n",
       " (1784,\n",
       "  0.00827113538980484,\n",
       "  <CGRtools.reactor.reactor.Reactor at 0x7f4d3122f910>),\n",
       " (1665,\n",
       "  0.008125271648168564,\n",
       "  <CGRtools.reactor.reactor.Reactor at 0x7f4d313a0580>),\n",
       " (1258,\n",
       "  0.007484037429094315,\n",
       "  <CGRtools.reactor.reactor.Reactor at 0x7f4d31419360>),\n",
       " (135,\n",
       "  0.007333867717534304,\n",
       "  <CGRtools.reactor.reactor.Reactor at 0x7f4d3185f070>),\n",
       " (623,\n",
       "  0.007105713710188866,\n",
       "  <CGRtools.reactor.reactor.Reactor at 0x7f4d317c06a0>)]"
      ]
     },
     "execution_count": 10,
     "metadata": {},
     "output_type": "execute_result"
    }
   ],
   "source": [
    "rule_prob_list = []\n",
    "for prob, rule, rule_id in policy_function.predict_reaction_rules(precursor, reaction_rules):\n",
    "    # Predict reaction rules\n",
    "    rule_prob_list.append((rule_id, prob, rule))\n",
    "sorted(rule_prob_list, key=lambda x: x[1], reverse=True)[:10]"
   ]
  },
  {
   "cell_type": "code",
   "execution_count": 11,
   "id": "a431236d-4ff7-43f3-ad8f-a4e6454f8a05",
   "metadata": {},
   "outputs": [
    {
     "name": "stdout",
     "output_type": "stream",
     "text": [
      "Expansion rate 0/50\n"
     ]
    }
   ],
   "source": [
    "n = 0\n",
    "for rule_id, prob, rule in rule_prob_list:\n",
    "    # 2. Apply reaction rules\n",
    "    for products in apply_reaction_rule(precursor.molecule, rule):\n",
    "        if products:\n",
    "            n += 1\n",
    "print(f\"Expansion rate {n}/{len(rule_prob_list)}\")"
   ]
  },
  {
   "cell_type": "markdown",
   "id": "e8ae9526-87b8-42ed-abee-d0c6e6f308c3",
   "metadata": {},
   "source": [
    "### 7. Expansion rate benchmark"
   ]
  },
  {
   "cell_type": "code",
   "execution_count": 12,
   "id": "1c78af43-1194-4bfd-8ddf-60c0995a0d4b",
   "metadata": {},
   "outputs": [],
   "source": [
    "with open(\"passerini_reactions_stand.smi\", \"r\") as f:\n",
    "    reacts = f.readlines()\n",
    "reacts = [smiles(i) for i in reacts]\n",
    "# Take random precursors\n",
    "cand_list = []\n",
    "for r in reacts:\n",
    "    cand_list.extend(r.reactants)\n",
    "    cand_list.extend(r.products)"
   ]
  },
  {
   "cell_type": "code",
   "execution_count": 13,
   "id": "2738dbf7-15de-484f-a0d6-3bdb1b92e485",
   "metadata": {},
   "outputs": [],
   "source": [
    "n_list = []\n",
    "for mol in cand_list[:]:\n",
    "    precursor = Precursor(mol)\n",
    "    try:\n",
    "        list(policy_function.predict_reaction_rules(precursor, reaction_rules))\n",
    "    except:\n",
    "        continue\n",
    "    \n",
    "    n = 0\n",
    "    for prob, rule, rule_id in policy_function.predict_reaction_rules(precursor, reaction_rules):\n",
    "        for products in apply_reaction_rule(precursor.molecule, rule):\n",
    "            if products:\n",
    "                n += 1\n",
    "    n_list.append(n)"
   ]
  },
  {
   "cell_type": "code",
   "execution_count": 14,
   "id": "b4533758-f173-412e-8790-096b7c44715e",
   "metadata": {},
   "outputs": [
    {
     "data": {
      "text/plain": [
       "Counter({0: 5926, 1: 902, 2: 502})"
      ]
     },
     "execution_count": 14,
     "metadata": {},
     "output_type": "execute_result"
    }
   ],
   "source": [
    "Counter(n_list)"
   ]
  },
  {
   "cell_type": "code",
   "execution_count": null,
   "id": "09825b9d-1889-43a9-b7e1-8f99f07fffd1",
   "metadata": {},
   "outputs": [],
   "source": []
  },
  {
   "cell_type": "code",
   "execution_count": null,
   "id": "a2c3c693-4684-4fdc-9fcb-683ba146f266",
   "metadata": {},
   "outputs": [],
   "source": []
  },
  {
   "cell_type": "code",
   "execution_count": null,
   "id": "34091cdd-c81e-4abc-b350-292e33851fae",
   "metadata": {},
   "outputs": [],
   "source": []
  },
  {
   "cell_type": "code",
   "execution_count": null,
   "id": "e102812f-9f76-4b21-8820-7a4b3b7230bc",
   "metadata": {},
   "outputs": [],
   "source": []
  }
 ],
 "metadata": {
  "kernelspec": {
   "display_name": "synplan",
   "language": "python",
   "name": "synplan"
  },
  "language_info": {
   "codemirror_mode": {
    "name": "ipython",
    "version": 3
   },
   "file_extension": ".py",
   "mimetype": "text/x-python",
   "name": "python",
   "nbconvert_exporter": "python",
   "pygments_lexer": "ipython3",
   "version": "3.10.18"
  }
 },
 "nbformat": 4,
 "nbformat_minor": 5
}
